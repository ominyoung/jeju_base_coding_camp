{
 "cells": [
  {
   "cell_type": "markdown",
   "metadata": {},
   "source": [
    "# 1번"
   ]
  },
  {
   "cell_type": "code",
   "execution_count": 5,
   "metadata": {},
   "outputs": [
    {
     "name": "stdout",
     "output_type": "stream",
     "text": [
      "[100, 200, 300]\n"
     ]
    }
   ],
   "source": [
    "# 1. 리스트의 삭제\n",
    "nums = [100,200,300,400,500]\n",
    "# 슬라이싱 사용\n",
    "# nums = nums[:3]\n",
    "\n",
    "# 리스트 내장함수\n",
    "#print(dir(nums))\n",
    "nums.pop()\n",
    "nums.pop()\n",
    "print(nums)\n"
   ]
  },
  {
   "cell_type": "markdown",
   "metadata": {},
   "source": [
    "# 2번"
   ]
  },
  {
   "cell_type": "code",
   "execution_count": 6,
   "metadata": {},
   "outputs": [
    {
     "name": "stdout",
     "output_type": "stream",
     "text": [
      "<class 'list'>\n"
     ]
    }
   ],
   "source": [
    "l = [200,100,300]\n",
    "print(type(l))"
   ]
  },
  {
   "cell_type": "markdown",
   "metadata": {},
   "source": [
    "# 3번"
   ]
  },
  {
   "cell_type": "code",
   "execution_count": 7,
   "metadata": {},
   "outputs": [
    {
     "name": "stdout",
     "output_type": "stream",
     "text": [
      "<class 'list'>\n",
      "['__add__', '__class__', '__class_getitem__', '__contains__', '__delattr__', '__delitem__', '__dir__', '__doc__', '__eq__', '__format__', '__ge__', '__getattribute__', '__getitem__', '__gt__', '__hash__', '__iadd__', '__imul__', '__init__', '__init_subclass__', '__iter__', '__le__', '__len__', '__lt__', '__mul__', '__ne__', '__new__', '__reduce__', '__reduce_ex__', '__repr__', '__reversed__', '__rmul__', '__setattr__', '__setitem__', '__sizeof__', '__str__', '__subclasshook__', 'append', 'clear', 'copy', 'count', 'extend', 'index', 'insert', 'pop', 'remove', 'reverse', 'sort']\n"
     ]
    }
   ],
   "source": [
    "l = [100, 200, 300]\n",
    "print(type(l))\n",
    "print(dir(l))"
   ]
  },
  {
   "cell_type": "markdown",
   "metadata": {},
   "source": [
    "# 4번"
   ]
  },
  {
   "cell_type": "code",
   "execution_count": 8,
   "metadata": {},
   "outputs": [
    {
     "name": "stdout",
     "output_type": "stream",
     "text": [
      "<class 'str'>\n"
     ]
    }
   ],
   "source": [
    "a = '''\n",
    "hello world\n",
    "'''\n",
    "print(type(a))"
   ]
  },
  {
   "cell_type": "markdown",
   "metadata": {},
   "source": [
    "# 5번"
   ]
  },
  {
   "cell_type": "code",
   "execution_count": 9,
   "metadata": {},
   "outputs": [
    {
     "name": "stdout",
     "output_type": "stream",
     "text": [
      "16\n"
     ]
    }
   ],
   "source": [
    "a = 10\n",
    "b = 2\n",
    "for i in range(1, 5, 2):\n",
    "    a += i\n",
    "\n",
    "print(a+b)"
   ]
  },
  {
   "cell_type": "markdown",
   "metadata": {},
   "source": [
    "# 6번 : False\n",
    "-> None, 0, \"\", bool(0)"
   ]
  },
  {
   "cell_type": "code",
   "execution_count": 10,
   "metadata": {},
   "outputs": [
    {
     "name": "stdout",
     "output_type": "stream",
     "text": [
      "True\n",
      "False\n",
      "True\n",
      "False\n",
      "False\n"
     ]
    }
   ],
   "source": [
    "# 주의할 사항\n",
    "print(bool(\" \"))\n",
    "print(bool(\"\"))\n",
    "print(bool([\"\",\"\"])) # ,(콤마) 존재로 True로 잡힘\n",
    "print(bool([]))\n",
    "print(bool(None))"
   ]
  },
  {
   "cell_type": "markdown",
   "metadata": {},
   "source": [
    "# 8번 : 딕셔너리 키 이름 중복"
   ]
  },
  {
   "cell_type": "code",
   "execution_count": 12,
   "metadata": {},
   "outputs": [
    {
     "name": "stdout",
     "output_type": "stream",
     "text": [
      "84\n"
     ]
    }
   ],
   "source": [
    "d = {'height':100, 'weight': 78, 'weight':84, 'temparture': 36, 'eyesight':1}\n",
    "print(d['weight'])"
   ]
  },
  {
   "cell_type": "code",
   "execution_count": 13,
   "metadata": {},
   "outputs": [
    {
     "name": "stdout",
     "output_type": "stream",
     "text": [
      "{'height': 100, 'weight': 84, 'temparture': 36, 'eyesight': 1}\n"
     ]
    }
   ],
   "source": [
    "print(d)"
   ]
  },
  {
   "cell_type": "code",
   "execution_count": 14,
   "metadata": {},
   "outputs": [
    {
     "data": {
      "text/plain": [
       "{'height': 100, 'weight': 84, 'temparture': 36, 'eyesight': 1}"
      ]
     },
     "execution_count": 14,
     "metadata": {},
     "output_type": "execute_result"
    }
   ],
   "source": [
    "d"
   ]
  },
  {
   "cell_type": "code",
   "execution_count": 15,
   "metadata": {},
   "outputs": [
    {
     "name": "stdout",
     "output_type": "stream",
     "text": [
      "Python 3.9.0\n"
     ]
    }
   ],
   "source": [
    "!python -V"
   ]
  },
  {
   "cell_type": "code",
   "execution_count": 16,
   "metadata": {},
   "outputs": [
    {
     "name": "stdout",
     "output_type": "stream",
     "text": [
      "{'height': 100, 'weight': 100, 'temparture': 36, 'eyesight': 1}\n"
     ]
    }
   ],
   "source": [
    "d['weight'] = 100\n",
    "print(d)"
   ]
  },
  {
   "cell_type": "code",
   "execution_count": 17,
   "metadata": {},
   "outputs": [
    {
     "name": "stdout",
     "output_type": "stream",
     "text": [
      "{'height': 100, 'weight': 100, 'temparture': 36, 'eyesight': 1, 'aa': 1000}\n"
     ]
    }
   ],
   "source": [
    "d['aa'] = 1000\n",
    "print(d)"
   ]
  },
  {
   "cell_type": "code",
   "execution_count": 18,
   "metadata": {},
   "outputs": [
    {
     "name": "stdout",
     "output_type": "stream",
     "text": [
      "{'height': 100, 'weight': 100, 'temparture': 36, 'eyesight': 1, 'aa': 1000, 'bb': 1000}\n"
     ]
    }
   ],
   "source": [
    "d['bb'] = 1000\n",
    "print(d)"
   ]
  },
  {
   "cell_type": "code",
   "execution_count": 19,
   "metadata": {},
   "outputs": [
    {
     "name": "stdout",
     "output_type": "stream",
     "text": [
      "height\n",
      "weight\n",
      "temparture\n",
      "eyesight\n",
      "aa\n",
      "bb\n"
     ]
    }
   ],
   "source": [
    "for i in d:\n",
    "    print(i)"
   ]
  },
  {
   "cell_type": "markdown",
   "metadata": {},
   "source": [
    "# 9번 : sep와 end를 활용한 출력방법"
   ]
  },
  {
   "cell_type": "code",
   "execution_count": 20,
   "metadata": {},
   "outputs": [
    {
     "name": "stdout",
     "output_type": "stream",
     "text": [
      "2019 04 26\n",
      "11 34 27\n"
     ]
    }
   ],
   "source": [
    "year = '2019'\n",
    "month = '04'\n",
    "day = '26'\n",
    "hour = '11'\n",
    "minute = '34'\n",
    "second = '27'\n",
    "\n",
    "print(year, month, day, )\n",
    "print(hour, minute, second, )"
   ]
  },
  {
   "cell_type": "code",
   "execution_count": 22,
   "metadata": {},
   "outputs": [
    {
     "name": "stdout",
     "output_type": "stream",
     "text": [
      "2019/04/26 11:34:27\n"
     ]
    }
   ],
   "source": [
    "print(year, month, day, end=' ', sep='/')\n",
    "print(hour, minute, second, sep=':')"
   ]
  },
  {
   "cell_type": "markdown",
   "metadata": {},
   "source": [
    "# 10번\n",
    "```\n",
    "    *\n",
    "   ***\n",
    "  *****\n",
    " *******\n",
    "*********\n",
    "```"
   ]
  },
  {
   "cell_type": "code",
   "execution_count": 24,
   "metadata": {},
   "outputs": [
    {
     "name": "stdout",
     "output_type": "stream",
     "text": [
      "    *\n",
      "   ***\n",
      "  *****\n",
      " *******\n",
      "*********\n"
     ]
    }
   ],
   "source": [
    "# 4    1\n",
    "# 3    3\n",
    "# 2    5\n",
    "# 1    7\n",
    "# 0    9\n",
    "# n-i  2i-1\n",
    "\n",
    "n=5\n",
    "for i in range(1, n+1):\n",
    "    #print(n-i, 2*i-1)\n",
    "    print((' '*(n-i)+('*'*(2*i-1))))"
   ]
  },
  {
   "cell_type": "markdown",
   "metadata": {},
   "source": [
    "# 11번 : for문 기본 활용"
   ]
  },
  {
   "cell_type": "code",
   "execution_count": 25,
   "metadata": {},
   "outputs": [
    {
     "name": "stdout",
     "output_type": "stream",
     "text": [
      "5050\n"
     ]
    }
   ],
   "source": [
    "s = 0\n",
    "\n",
    "for i in range(1, 101):\n",
    "    s += i\n",
    "\n",
    "print(s)"
   ]
  },
  {
   "cell_type": "code",
   "execution_count": 26,
   "metadata": {},
   "outputs": [
    {
     "data": {
      "text/plain": [
       "5050.0"
      ]
     },
     "execution_count": 26,
     "metadata": {},
     "output_type": "execute_result"
    }
   ],
   "source": [
    "# 100 99  98  97  96  ...\n",
    "# 1   2   3   4   5   ...\n",
    "# 101 101 101 101 101 ...\n",
    "\n",
    "# n*(n+1)/2\n",
    "\n",
    "100*(100+1)/2"
   ]
  },
  {
   "cell_type": "code",
   "execution_count": 29,
   "metadata": {},
   "outputs": [
    {
     "name": "stdout",
     "output_type": "stream",
     "text": [
      "[0, 1, 2, 3, 4, 5, 6, 7, 8, 9]\n",
      "[5, 6, 7, 8, 9]\n",
      "[1, 3, 5, 7, 9]\n",
      "[20, 18, 16, 14, 12]\n",
      "[-10, -8, -6, -4, -2, 0, 2, 4, 6, 8]\n",
      "[1, 3, 5, 7, 9]\n"
     ]
    }
   ],
   "source": [
    "# 리스트의 내장함수 이용가능\n",
    "list(range(10))\n",
    "\n",
    "# 후에 iterator, generator\n",
    "# type(range(10)) --> range\n",
    "\n",
    "print(list(range(10)))\n",
    "print(list(range(5, 10)))\n",
    "print(list(range(1, 10, 2)))\n",
    "print(list(range(20, 10, -2)))\n",
    "print(list(range(-10, 10, 2)))\n",
    "print(list(range(1, 10, 2)))"
   ]
  },
  {
   "cell_type": "markdown",
   "metadata": {},
   "source": [
    "# 12번 : 게임 캐릭터 class만들기"
   ]
  },
  {
   "cell_type": "code",
   "execution_count": 34,
   "metadata": {},
   "outputs": [
    {
     "name": "stdout",
     "output_type": "stream",
     "text": [
      "545 210 10\n",
      "파이어볼\n"
     ]
    }
   ],
   "source": [
    "class Wizard:\n",
    "    # 클래스가 인스턴스화 될때, 인스턴스의 영역을 나타내주는 것이 self\n",
    "    def __init__(self, health, mana, armor):\n",
    "        self.health = health\n",
    "        self.mana = mana\n",
    "        self.armor = armor\n",
    "\n",
    "    def __str__(self):\n",
    "        return 'hello world'\n",
    "\n",
    "    def attack(self):\n",
    "        print('파이어볼')\n",
    "        \n",
    "x = Wizard(health=545, mana=210, armor=10)\n",
    "print(x.health, x.mana, x.armor)\n",
    "x.attack()"
   ]
  },
  {
   "cell_type": "code",
   "execution_count": 35,
   "metadata": {},
   "outputs": [
    {
     "name": "stdout",
     "output_type": "stream",
     "text": [
      "<class '__main__.Wizard'>\n",
      "['__class__', '__delattr__', '__dict__', '__dir__', '__doc__', '__eq__', '__format__', '__ge__', '__getattribute__', '__gt__', '__hash__', '__init__', '__init_subclass__', '__le__', '__lt__', '__module__', '__ne__', '__new__', '__reduce__', '__reduce_ex__', '__repr__', '__setattr__', '__sizeof__', '__str__', '__subclasshook__', '__weakref__', 'armor', 'attack', 'health', 'mana']\n",
      "hello world\n"
     ]
    }
   ],
   "source": [
    "print(type(x))\n",
    "print(dir(x))\n",
    "print(x)\n",
    "# 메직메소드는 x에 대한 성질, 본질을 정의하는 메소드이다."
   ]
  },
  {
   "cell_type": "markdown",
   "metadata": {},
   "source": [
    "# 13번 : 몇 번째 행성인가요?"
   ]
  },
  {
   "cell_type": "code",
   "execution_count": 36,
   "metadata": {},
   "outputs": [
    {
     "data": {
      "text/plain": [
       "'수성'"
      ]
     },
     "execution_count": 36,
     "metadata": {},
     "output_type": "execute_result"
    }
   ],
   "source": [
    "행성 = ['수성', '금성', '지구', '화성', '목성', '토성', '천왕성', '해왕성']\n",
    "사용자입력 = int(input('n번째 행성을 입력하세요.'))\n",
    "#행성[사용자입력-1] --> 만약 '사용자입력'이 0이면 행성[-1]로 '해왕성' 출력\n",
    "if 사용자입력.isnumeric():\n",
    "    if 사용자입력 >= 1:\n",
    "        if 사용자입력 <=8:\n",
    "            print(행성[사용자입력-1])\n",
    "        else:\n",
    "            print('총 8개의 행성밖에 없습니다.')\n",
    "    elif 사용자입력 == 0:\n",
    "        print('0번째 행성은 없습니다.')\n",
    "    else:\n",
    "        print(행성[사용자입력])\n",
    "else:\n",
    "    print('숫자를 입력해주세요.')"
   ]
  },
  {
   "cell_type": "code",
   "execution_count": 39,
   "metadata": {},
   "outputs": [
    {
     "data": {
      "text/plain": [
       "True"
      ]
     },
     "execution_count": 39,
     "metadata": {},
     "output_type": "execute_result"
    }
   ],
   "source": [
    "dir('abc')\n",
    "'abc'.isnumeric()\n",
    "'123'.isnumeric()"
   ]
  },
  {
   "cell_type": "markdown",
   "metadata": {},
   "source": [
    "# 14번 : 3의 배수인가요?"
   ]
  },
  {
   "cell_type": "code",
   "execution_count": 42,
   "metadata": {},
   "outputs": [
    {
     "name": "stdout",
     "output_type": "stream",
     "text": [
      "숫자를 입력해주세요!\n"
     ]
    }
   ],
   "source": [
    "try:\n",
    "    n = int(input('숫자를 입력하세요 : '))\n",
    "    if n % 3 == 0:\n",
    "        print('짝')\n",
    "    else:\n",
    "        print(n)\n",
    "except:\n",
    "    # n에 문자가 입력되었을 때 예외처리\n",
    "    print('숫자를 입력해주세요!')\n"
   ]
  },
  {
   "cell_type": "code",
   "execution_count": 43,
   "metadata": {},
   "outputs": [
    {
     "data": {
      "text/plain": [
       "True"
      ]
     },
     "execution_count": 43,
     "metadata": {},
     "output_type": "execute_result"
    }
   ],
   "source": [
    "'3' in '123'"
   ]
  },
  {
   "cell_type": "code",
   "execution_count": 44,
   "metadata": {},
   "outputs": [
    {
     "data": {
      "text/plain": [
       "True"
      ]
     },
     "execution_count": 44,
     "metadata": {},
     "output_type": "execute_result"
    }
   ],
   "source": [
    "30 in [10,20,30]"
   ]
  },
  {
   "cell_type": "markdown",
   "metadata": {},
   "source": [
    "# 15번 : 자기소개"
   ]
  },
  {
   "cell_type": "code",
   "execution_count": 45,
   "metadata": {},
   "outputs": [
    {
     "name": "stdout",
     "output_type": "stream",
     "text": [
      "안녕하세요. 저는 오민영입니다.\n"
     ]
    }
   ],
   "source": [
    "name = input('이름을 입력하세요 : ')\n",
    "age = 10\n",
    "\n",
    "print('안녕하세요. 저는 {}입니다. 제 나이는 {}입니다.'.format(name, age))\n",
    "print('안녕하세요. 저는 {0}입니다. 제 나이는 {0}입니다.'.format(name, age))\n",
    "print(f'안녕하세요. 저는 {name}입니다.')\n",
    "print(f'안녕하세요. 저는 {name}입니다. 제 나이는 {age+age}입니다.')"
   ]
  }
 ],
 "metadata": {
  "kernelspec": {
   "display_name": "Python 3.9.0 64-bit",
   "language": "python",
   "name": "python3"
  },
  "language_info": {
   "codemirror_mode": {
    "name": "ipython",
    "version": 3
   },
   "file_extension": ".py",
   "mimetype": "text/x-python",
   "name": "python",
   "nbconvert_exporter": "python",
   "pygments_lexer": "ipython3",
   "version": "3.9.0"
  },
  "orig_nbformat": 4,
  "vscode": {
   "interpreter": {
    "hash": "b3910bc5e658ccb05c7721c4d0a7851e66cc90bf127b2b95c68ad042ea7f2d06"
   }
  }
 },
 "nbformat": 4,
 "nbformat_minor": 2
}
