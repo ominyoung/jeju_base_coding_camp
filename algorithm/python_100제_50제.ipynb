{
 "cells": [
  {
   "cell_type": "code",
   "execution_count": null,
   "metadata": {},
   "outputs": [],
   "source": [
    "# 1. 리스트의 삭제\n",
    "nums = [100,200,300,400,500]\n",
    "del nums[3]\n",
    "del nums[4]\n",
    "print(nums)"
   ]
  }
 ],
 "metadata": {
  "language_info": {
   "name": "python"
  },
  "orig_nbformat": 4
 },
 "nbformat": 4,
 "nbformat_minor": 2
}
