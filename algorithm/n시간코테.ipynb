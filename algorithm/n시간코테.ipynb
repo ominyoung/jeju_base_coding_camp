{
 "cells": [
  {
   "cell_type": "markdown",
   "metadata": {},
   "source": [
    "- 너무 어려운 문제는 제외하였습니다.\n",
    "- 문제 풀이는 워밍업, 18년, 19년, 21년 입사문제 풀이 순으로 진행합니다."
   ]
  },
  {
   "cell_type": "markdown",
   "metadata": {},
   "source": [
    "# 코테 전 준비사항\n",
    "1. 플렛폼에 익숙해지자!(프로그래머스, 구름EDU 등)-사용 가능 라이브러리 미리 확인 등\n",
    "2. 언어 선택(속도: c++, 풀이: Python)\n",
    "3. 코드 스니펫(트리, 검색, 최단경로(예를 들어 다익스트라)등), Cheet sheet, A4 용지 준비\n",
    "4. 유용한 라이브러리 정리!(collections_유튜브, itertools(순열조합)_효율적인_루핑_만들기 등등)\n",
    "5. 기억해두자! 예외처리!"
   ]
  },
  {
   "cell_type": "markdown",
   "metadata": {},
   "source": [
    "# 1번 워밍업 문제(Google)\n",
    "1부터 10,000까지 8이라는 숫자가 총 몇 번 나오는가?\n",
    "\n",
    "8이 포함되어 있는 숫자의 개수를 카운팅하는 것이 아니라 8이라는 숫자를 모두 카운팅 해야 한다.(*예를 들어 8808은 3, 8888은 4로 카운팅 해야 함)"
   ]
  },
  {
   "cell_type": "code",
   "execution_count": null,
   "metadata": {},
   "outputs": [],
   "source": [
    "[0,0,0,0]\n",
    "[9,9,9,9]"
   ]
  },
  {
   "cell_type": "code",
   "execution_count": 2,
   "metadata": {},
   "outputs": [
    {
     "name": "stdout",
     "output_type": "stream",
     "text": [
      "16.8 µs ± 490 ns per loop (mean ± std. dev. of 7 runs, 100,000 loops each)\n"
     ]
    }
   ],
   "source": [
    "%%timeit #속도\n",
    "\n",
    "str(list(range(1, 101)))\n",
    "str(list(range(1, 101))).count('8')"
   ]
  },
  {
   "cell_type": "code",
   "execution_count": 2,
   "metadata": {},
   "outputs": [
    {
     "data": {
      "text/plain": [
       "4000"
      ]
     },
     "execution_count": 2,
     "metadata": {},
     "output_type": "execute_result"
    }
   ],
   "source": [
    "count = 0\n",
    "for i in range(10001):\n",
    "    if '8' in str(i):\n",
    "        count += str(i).count('8')\n",
    "count"
   ]
  },
  {
   "cell_type": "code",
   "execution_count": 3,
   "metadata": {},
   "outputs": [
    {
     "data": {
      "text/plain": [
       "4000"
      ]
     },
     "execution_count": 3,
     "metadata": {},
     "output_type": "execute_result"
    }
   ],
   "source": [
    "str(list(range(1,10001))).count('8')"
   ]
  },
  {
   "cell_type": "code",
   "execution_count": 4,
   "metadata": {},
   "outputs": [
    {
     "data": {
      "text/plain": [
       "4000"
      ]
     },
     "execution_count": 4,
     "metadata": {},
     "output_type": "execute_result"
    }
   ],
   "source": [
    "str([i for i in range(10001)]).count('8')"
   ]
  },
  {
   "cell_type": "markdown",
   "metadata": {},
   "source": [
    "# 2번 워밍업 문제(daum)\n",
    "1차원의 점들이 주어졌을 때, 그 중 가장 거리가 짧은 것의 쌍을 출력하는 함수를 작성하시오.(단, 점들의 배열은 모두 정렬되어있다고 가정한다.)\n",
    "\n",
    "예를 들어 S=[1,3,4,8,13,17,20]이 주어졌다면, 결과값은 (3,4)가 될 것이다."
   ]
  },
  {
   "cell_type": "code",
   "execution_count": 5,
   "metadata": {},
   "outputs": [
    {
     "data": {
      "text/plain": [
       "20"
      ]
     },
     "execution_count": 5,
     "metadata": {},
     "output_type": "execute_result"
    }
   ],
   "source": [
    "s = [1,3,4,8,13,17,20]\n",
    "m = max(s)\n",
    "m"
   ]
  },
  {
   "cell_type": "code",
   "execution_count": 6,
   "metadata": {},
   "outputs": [
    {
     "data": {
      "text/plain": [
       "(3, 4)"
      ]
     },
     "execution_count": 6,
     "metadata": {},
     "output_type": "execute_result"
    }
   ],
   "source": [
    "s = [1,3,4,8,13,17,20]\n",
    "m = max(s)\n",
    "index = 0\n",
    "for i in range(len(s)-1):\n",
    "    if m > s[i+1] - s[i]:\n",
    "        index = i\n",
    "        m = s[i+1] - s[i]\n",
    "\n",
    "s[index], s[index+1]"
   ]
  },
  {
   "cell_type": "code",
   "execution_count": 7,
   "metadata": {},
   "outputs": [
    {
     "data": {
      "text/plain": [
       "[(1, 3), (3, 4), (4, 8), (8, 13), (13, 17), (17, 20)]"
      ]
     },
     "execution_count": 7,
     "metadata": {},
     "output_type": "execute_result"
    }
   ],
   "source": [
    "s = [1,3,4,8,13,17,20]\n",
    "ss = [3,4,8,13,17,20]\n",
    "\n",
    "list(zip(s,ss))"
   ]
  },
  {
   "cell_type": "code",
   "execution_count": 10,
   "metadata": {},
   "outputs": [
    {
     "data": {
      "text/plain": [
       "(3, 4)"
      ]
     },
     "execution_count": 10,
     "metadata": {},
     "output_type": "execute_result"
    }
   ],
   "source": [
    "sorted(list(zip(s, ss)), key=lambda i:i[1]-i[0])[0]"
   ]
  },
  {
   "cell_type": "code",
   "execution_count": 11,
   "metadata": {},
   "outputs": [
    {
     "data": {
      "text/plain": [
       "[(1, 3), (3, 4), (4, 8), (8, 13), (13, 17), (17, 20)]"
      ]
     },
     "execution_count": 11,
     "metadata": {},
     "output_type": "execute_result"
    }
   ],
   "source": [
    "def 두수의차(i):\n",
    "    return i[1]-i[0]\n",
    "\n",
    "sorted(list(zip(s,ss)),key=두수의차)"
   ]
  },
  {
   "cell_type": "markdown",
   "metadata": {},
   "source": [
    "# 3번 카카오 2018 공채 문제 1번"
   ]
  },
  {
   "cell_type": "code",
   "execution_count": 1,
   "metadata": {},
   "outputs": [
    {
     "data": {
      "text/plain": [
       "'0b1001'"
      ]
     },
     "execution_count": 1,
     "metadata": {},
     "output_type": "execute_result"
    }
   ],
   "source": [
    "bin(9)"
   ]
  },
  {
   "cell_type": "code",
   "execution_count": 2,
   "metadata": {},
   "outputs": [
    {
     "data": {
      "text/plain": [
       "'0b11110'"
      ]
     },
     "execution_count": 2,
     "metadata": {},
     "output_type": "execute_result"
    }
   ],
   "source": [
    "bin(30)"
   ]
  },
  {
   "cell_type": "code",
   "execution_count": null,
   "metadata": {},
   "outputs": [],
   "source": [
    "#  1001\n",
    "# 11110\n",
    "# -----\n",
    "# 11111"
   ]
  },
  {
   "cell_type": "code",
   "execution_count": 5,
   "metadata": {},
   "outputs": [
    {
     "data": {
      "text/plain": [
       "'#####'"
      ]
     },
     "execution_count": 5,
     "metadata": {},
     "output_type": "execute_result"
    }
   ],
   "source": [
    "bin(9 | 30)[2:].replace('1','#').replace('0',' ')"
   ]
  },
  {
   "cell_type": "code",
   "execution_count": 6,
   "metadata": {},
   "outputs": [
    {
     "name": "stdout",
     "output_type": "stream",
     "text": [
      "(9, 30)\n",
      "(20, 1)\n",
      "(28, 21)\n",
      "(18, 17)\n",
      "(11, 28)\n"
     ]
    }
   ],
   "source": [
    "arr1 = [9, 20, 28, 18, 11]\n",
    "arr2 = [30, 1, 21, 17, 28]\n",
    "n = 5\n",
    "\n",
    "for i in zip(arr1, arr2):\n",
    "    print(i)"
   ]
  },
  {
   "cell_type": "code",
   "execution_count": 7,
   "metadata": {},
   "outputs": [
    {
     "name": "stdout",
     "output_type": "stream",
     "text": [
      "9 30\n",
      "20 1\n",
      "28 21\n",
      "18 17\n",
      "11 28\n"
     ]
    }
   ],
   "source": [
    "for i, j in zip(arr1, arr2):\n",
    "    print(i, j)"
   ]
  },
  {
   "cell_type": "code",
   "execution_count": 8,
   "metadata": {},
   "outputs": [
    {
     "name": "stdout",
     "output_type": "stream",
     "text": [
      "#####\n",
      "# # #\n",
      "### #\n",
      "#  ##\n",
      "#####\n"
     ]
    }
   ],
   "source": [
    "for i, j in zip(arr1, arr2):\n",
    "    print(bin(i | j)[2:].replace('1','#').replace('0',' '))"
   ]
  },
  {
   "cell_type": "code",
   "execution_count": null,
   "metadata": {},
   "outputs": [],
   "source": [
    "arr1 = [3, 20, 28, 18, 11]\n",
    "arr2 = [5, 1, 21, 17, 28]\n",
    "\n",
    "for i,j in zip(arr1, arr2):\n",
    "    print(bin(i | j)[2:].zfill(10)"
   ]
  },
  {
   "cell_type": "code",
   "execution_count": 9,
   "metadata": {},
   "outputs": [
    {
     "name": "stdout",
     "output_type": "stream",
     "text": [
      "  ###\n",
      "# # #\n",
      "### #\n",
      "#  ##\n",
      "#####\n"
     ]
    }
   ],
   "source": [
    "arr1 = [3, 20, 28, 18, 11]\n",
    "arr2 = [5, 1, 21, 17, 28]\n",
    "n = 5\n",
    "\n",
    "for i,j in zip(arr1, arr2):\n",
    "    print(bin(i | j)[2:].zfill(n).replace('1','#').replace('0',' '))"
   ]
  },
  {
   "cell_type": "code",
   "execution_count": 10,
   "metadata": {},
   "outputs": [
    {
     "name": "stdout",
     "output_type": "stream",
     "text": [
      "#####\n",
      "# # #\n",
      "### #\n",
      "#  ##\n",
      "#####\n",
      "#####\n",
      "   ##\n",
      "### #\n",
      "#  ##\n",
      "#####\n",
      "######\n",
      "###  #\n",
      "##  ##\n",
      " #### \n",
      " #####\n",
      "### # \n"
     ]
    }
   ],
   "source": [
    "def solution(n, arr1, arr2):\n",
    "    answer = []\n",
    "    for i, j in zip(arr1, arr2):\n",
    "        print(bin(i | j)[2:].zfill(n).replace('1','#').replace('0',' '))\n",
    "    return answer\n",
    "\n",
    "testcase = [(5, [9,20,28,18,11], [30,1,21,17,28]),\n",
    "(5, [9,3,28,18,11],[30,1,21,17,28]),\n",
    "(6, [46,33,33,22,31,50], [27,56,19,14,14,10])]\n",
    "\n",
    "for i,j,k in testcase:\n",
    "    solution(i,j,k)"
   ]
  },
  {
   "cell_type": "markdown",
   "metadata": {},
   "source": [
    "# 4번 카카오 2018 공채 문제 2번"
   ]
  },
  {
   "cell_type": "code",
   "execution_count": 11,
   "metadata": {},
   "outputs": [],
   "source": [
    "def solution(dartResult):\n",
    "    점수 = []\n",
    "    for i in dartResult:\n",
    "        if i =='S':\n",
    "            pass\n",
    "        if i == 'D':\n",
    "            pass\n",
    "        if i == 'T':\n",
    "            pass\n",
    "        if i == '*':\n",
    "            pass\n",
    "        if i == '#':\n",
    "            pass\n",
    "        else:\n",
    "            pass"
   ]
  },
  {
   "cell_type": "code",
   "execution_count": null,
   "metadata": {},
   "outputs": [],
   "source": [
    "def solution(dartResult):\n",
    "    answer = []\n",
    "    for i in dartResult:\n",
    "        if i =='S':\n",
    "            pass\n",
    "        elif i == 'D':\n",
    "            pass\n",
    "        elif i == 'T':\n",
    "            pass\n",
    "        elif i == '*':\n",
    "            pass\n",
    "        elif i == '#':\n",
    "            pass\n",
    "        else:\n",
    "            answer.append(int(i))\n",
    "    return answer\n",
    "\n",
    "print(solution('1S2D*3T'))"
   ]
  }
 ],
 "metadata": {
  "kernelspec": {
   "display_name": "Python 3.9.0 64-bit",
   "language": "python",
   "name": "python3"
  },
  "language_info": {
   "codemirror_mode": {
    "name": "ipython",
    "version": 3
   },
   "file_extension": ".py",
   "mimetype": "text/x-python",
   "name": "python",
   "nbconvert_exporter": "python",
   "pygments_lexer": "ipython3",
   "version": "3.9.0"
  },
  "orig_nbformat": 4,
  "vscode": {
   "interpreter": {
    "hash": "b3910bc5e658ccb05c7721c4d0a7851e66cc90bf127b2b95c68ad042ea7f2d06"
   }
  }
 },
 "nbformat": 4,
 "nbformat_minor": 2
}
