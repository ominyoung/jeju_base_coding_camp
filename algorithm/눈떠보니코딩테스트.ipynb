{
 "cells": [
  {
   "attachments": {},
   "cell_type": "markdown",
   "metadata": {},
   "source": [
    "## 재귀함수\n",
    "- 내가 나를 호출하는 방법\n",
    "- 반복문 <-> 재귀함수"
   ]
  },
  {
   "attachments": {},
   "cell_type": "markdown",
   "metadata": {},
   "source": [
    "## 1부터 100까지의 합\n",
    "\n",
    "1. x=0\n",
    "2. x += 1\n",
    "3. x += 2\n",
    "4. x += 3\n",
    "5. x += 4\n",
    "6. ...\n",
    "7. x += 100"
   ]
  },
  {
   "cell_type": "code",
   "execution_count": 1,
   "metadata": {},
   "outputs": [
    {
     "name": "stdout",
     "output_type": "stream",
     "text": [
      "5050\n"
     ]
    }
   ],
   "source": [
    "x = 0\n",
    "for i in range(1, 101):\n",
    "    x += i\n",
    "print(x)"
   ]
  },
  {
   "attachments": {},
   "cell_type": "markdown",
   "metadata": {},
   "source": [
    "## 1부터 100까지의 곱\n",
    "1. x = 1\n",
    "2. x *= 1\n",
    "3. x *= 2\n",
    "4. x *= 3\n",
    "5. x *= 4\n",
    "6. ...\n",
    "7. x *= 100"
   ]
  },
  {
   "cell_type": "code",
   "execution_count": 6,
   "metadata": {},
   "outputs": [
    {
     "name": "stdout",
     "output_type": "stream",
     "text": [
      "120\n",
      "CPU times: user 34 µs, sys: 3 µs, total: 37 µs\n",
      "Wall time: 43.2 µs\n"
     ]
    }
   ],
   "source": [
    "%%time\n",
    "# 팩토리얼\n",
    "x = 1\n",
    "for i in range(1, 6):\n",
    "    x *= i\n",
    "print(x)\n",
    "# O(n)"
   ]
  },
  {
   "cell_type": "code",
   "execution_count": 7,
   "metadata": {},
   "outputs": [
    {
     "name": "stdout",
     "output_type": "stream",
     "text": [
      "5050\n",
      "CPU times: user 27 µs, sys: 2 µs, total: 29 µs\n",
      "Wall time: 30.3 µs\n"
     ]
    }
   ],
   "source": [
    "%%time\n",
    "# 시그마 공식 : n*(n+1)//2\n",
    "x = 0\n",
    "n = 100\n",
    "\n",
    "x = n*(n+1)//2\n",
    "print(x)\n",
    "# O(1)"
   ]
  },
  {
   "cell_type": "code",
   "execution_count": 8,
   "metadata": {},
   "outputs": [
    {
     "data": {
      "text/plain": [
       "55"
      ]
     },
     "execution_count": 8,
     "metadata": {},
     "output_type": "execute_result"
    }
   ],
   "source": [
    "# 재귀함수\n",
    "def f(n):\n",
    "    if n <= 1:\n",
    "        return 1\n",
    "    else:\n",
    "        return n + f(n-1)\n",
    "f(10)"
   ]
  },
  {
   "attachments": {},
   "cell_type": "markdown",
   "metadata": {},
   "source": [
    "## 문제 접근 방법\n",
    "1. 반복문의 경우는 Bottom-up(작은 문제에서 출발)\n",
    "2. 재귀의 경우는 Top-down(큰 문제에서 출발)\n",
    "\n",
    "* 재귀의 경우에는 꼭 종료조건이 있어야 함"
   ]
  },
  {
   "cell_type": "code",
   "execution_count": 9,
   "metadata": {},
   "outputs": [
    {
     "name": "stdout",
     "output_type": "stream",
     "text": [
      "1011\n"
     ]
    }
   ],
   "source": [
    "x = int(input('2진수로 만들 숫자를 입력하세요.'))\n",
    "result = ''\n",
    "while True:\n",
    "    if x % 2 == 0:\n",
    "        result += '0'\n",
    "    else:\n",
    "        result += '1'\n",
    "    x = x//2\n",
    "    if x == 1 or x == 0:\n",
    "        result += str(x)\n",
    "        print(result[::-1])\n",
    "        break"
   ]
  },
  {
   "cell_type": "code",
   "execution_count": 10,
   "metadata": {},
   "outputs": [
    {
     "name": "stdout",
     "output_type": "stream",
     "text": [
      "1\n",
      "0\n",
      "1\n",
      "0\n"
     ]
    }
   ],
   "source": [
    "def 이진수구하기(입력값):\n",
    "    if 입력값 < 2:\n",
    "        print(입력값)\n",
    "    else:\n",
    "        이진수구하기(입력값//2)\n",
    "        print(입력값 % 2)\n",
    "이진수구하기(10)"
   ]
  },
  {
   "cell_type": "code",
   "execution_count": 11,
   "metadata": {},
   "outputs": [
    {
     "data": {
      "text/plain": [
       "'1010'"
      ]
     },
     "execution_count": 11,
     "metadata": {},
     "output_type": "execute_result"
    }
   ],
   "source": [
    "def 이진수구하기(입력값):\n",
    "    if 입력값 < 2:\n",
    "        return str(입력값)\n",
    "    else:\n",
    "        return str(이진수구하기(입력값//2)) + str(입력값%2)\n",
    "이진수구하기(10)"
   ]
  },
  {
   "cell_type": "code",
   "execution_count": 12,
   "metadata": {},
   "outputs": [
    {
     "name": "stdout",
     "output_type": "stream",
     "text": [
      "g\n",
      "n\n",
      "u\n",
      "o\n",
      "y\n",
      "n\n",
      "i\n",
      "m\n",
      "o\n"
     ]
    }
   ],
   "source": [
    "def 문자열뒤집기(문자열):\n",
    "    if 문자열 == '':\n",
    "        return None\n",
    "    else:\n",
    "        문자열뒤집기(문자열[1:])\n",
    "        print(문자열[0])\n",
    "\n",
    "문자열뒤집기('ominyoung')"
   ]
  },
  {
   "attachments": {},
   "cell_type": "markdown",
   "metadata": {},
   "source": [
    "## 선택정렬"
   ]
  },
  {
   "cell_type": "code",
   "execution_count": 15,
   "metadata": {},
   "outputs": [
    {
     "name": "stdout",
     "output_type": "stream",
     "text": [
      "[5]\n",
      "[10, 66, 77, 54, 32, 11, 15]\n",
      "----------\n",
      "[5, 10]\n",
      "[66, 77, 54, 32, 11, 15]\n",
      "----------\n",
      "[5, 10, 11]\n",
      "[66, 77, 54, 32, 15]\n",
      "----------\n",
      "[5, 10, 11, 15]\n",
      "[66, 77, 54, 32]\n"
     ]
    }
   ],
   "source": [
    "# 선택정렬\n",
    "입력값 = [5,10,66,77,54,32,11,15]\n",
    "정렬된리스트 = []\n",
    "\n",
    "정렬된리스트.append(min(입력값))\n",
    "입력값.pop(입력값.index(min(입력값)))\n",
    "print(정렬된리스트)\n",
    "print(입력값)\n",
    "print('----------')\n",
    "정렬된리스트.append(min(입력값))\n",
    "입력값.pop(입력값.index(min(입력값)))\n",
    "print(정렬된리스트)\n",
    "print(입력값)\n",
    "print('----------')\n",
    "정렬된리스트.append(min(입력값))\n",
    "입력값.pop(입력값.index(min(입력값)))\n",
    "print(정렬된리스트)\n",
    "print(입력값)\n",
    "print('----------')\n",
    "정렬된리스트.append(min(입력값))\n",
    "입력값.pop(입력값.index(min(입력값)))\n",
    "print(정렬된리스트)\n",
    "print(입력값)\n"
   ]
  },
  {
   "cell_type": "code",
   "execution_count": 16,
   "metadata": {},
   "outputs": [
    {
     "name": "stdout",
     "output_type": "stream",
     "text": [
      "[5]\n",
      "[10, 66, 77, 54, 32, 11, 15]\n",
      "[5, 10]\n",
      "[66, 77, 54, 32, 11, 15]\n",
      "[5, 10, 11]\n",
      "[66, 77, 54, 32, 15]\n",
      "[5, 10, 11, 15]\n",
      "[66, 77, 54, 32]\n",
      "[5, 10, 11, 15, 32]\n",
      "[66, 77, 54]\n",
      "[5, 10, 11, 15, 32, 54]\n",
      "[66, 77]\n",
      "[5, 10, 11, 15, 32, 54, 66]\n",
      "[77]\n",
      "[5, 10, 11, 15, 32, 54, 66, 77]\n",
      "[]\n"
     ]
    }
   ],
   "source": [
    "# 선택정렬\n",
    "입력값 = [5,10,66,77,54,32,11,15]\n",
    "정렬된리스트 = []\n",
    "\n",
    "while 입력값:\n",
    "    정렬된리스트.append(min(입력값))\n",
    "    입력값.pop(입력값.index(min(입력값)))\n",
    "    print(정렬된리스트)\n",
    "    print(입력값)"
   ]
  },
  {
   "cell_type": "code",
   "execution_count": 18,
   "metadata": {},
   "outputs": [
    {
     "name": "stdout",
     "output_type": "stream",
     "text": [
      "5\n"
     ]
    }
   ],
   "source": [
    "# 선택정렬\n",
    "입력값 = [5,10,66,77,54,32,11,15]\n",
    "정렬된리스트 = []\n",
    "\n",
    "def 최솟값(l):\n",
    "    최소 = l[0]\n",
    "    count = 0\n",
    "    for i in l:\n",
    "        if 최소 > i:\n",
    "            최소 = i\n",
    "            index = count\n",
    "        count += 1\n",
    "    return index\n",
    "\n",
    "print(최솟값(입력값))\n"
   ]
  },
  {
   "cell_type": "code",
   "execution_count": null,
   "metadata": {},
   "outputs": [],
   "source": [
    "# 선택정렬\n",
    "입력값 = [5,10,66,77,54,32,11,15]\n",
    "\n",
    "def 최솟값_인덱스(l):\n",
    "    비교값 = l[0]\n",
    "    for i in range(len(l)):\n",
    "        if l[i] < 비교값:\n",
    "            인덱스 = i\n",
    "    return 인덱스"
   ]
  },
  {
   "attachments": {},
   "cell_type": "markdown",
   "metadata": {},
   "source": [
    "## 삽입정렬"
   ]
  },
  {
   "cell_type": "code",
   "execution_count": null,
   "metadata": {},
   "outputs": [],
   "source": [
    "# 삽입정렬\n",
    "입력값 = [5,10,66,77,54,32,11,15]\n",
    "정렬된리스트 = []\n",
    "\n",
    "입력값 = [10,66,77,54,32,11,15]\n",
    "정렬된리스트 = [5]\n",
    "\n",
    "입력값 = [66,77,54,32,11,15]\n",
    "정렬된리스트 = [5,10]\n",
    "\n",
    "입력값 = [77,54,32,11,15]\n",
    "정렬된리스트 = [5,10,66]\n",
    "\n",
    "입력값 = [54,32,11,15]\n",
    "정렬된리스트 = [5,10,66,77]"
   ]
  },
  {
   "cell_type": "code",
   "execution_count": 2,
   "metadata": {},
   "outputs": [
    {
     "name": "stdout",
     "output_type": "stream",
     "text": [
      "[5, 10, 11, 15, 32, 54, 66, 77]\n"
     ]
    }
   ],
   "source": [
    "입력값 = [5,10,66,77,54,32,11,15]\n",
    "정렬된리스트 = []\n",
    "\n",
    "def 삽입값이_들어갈_인덱스(정렬된리스트,삽입값):\n",
    "    for i in range(len(정렬된리스트)):\n",
    "        if 삽입값 < 정렬된리스트[i]:\n",
    "            return i\n",
    "    return len(정렬된리스트)\n",
    "\n",
    "while 입력값:\n",
    "    삽입값 = 입력값.pop(0)\n",
    "    인덱스 = 삽입값이_들어갈_인덱스(정렬된리스트,삽입값)\n",
    "    정렬된리스트.insert(인덱스, 삽입값)\n",
    "\n",
    "print(정렬된리스트)"
   ]
  },
  {
   "attachments": {},
   "cell_type": "markdown",
   "metadata": {},
   "source": [
    "# 병합정렬(O(nlogn))"
   ]
  },
  {
   "cell_type": "code",
   "execution_count": 4,
   "metadata": {},
   "outputs": [
    {
     "data": {
      "text/plain": [
       "[77, 54, 32, 11, 15]"
      ]
     },
     "execution_count": 4,
     "metadata": {},
     "output_type": "execute_result"
    }
   ],
   "source": [
    "# 분할, 정복\n",
    "입력값 = [5,10,66,77,54,32,11,15]\n",
    "전체인덱스 = 7\n",
    "중간값 = 7 // 2\n",
    "입력값[:중간값+1]\n",
    "입력값[중간값+1:]\n"
   ]
  },
  {
   "cell_type": "code",
   "execution_count": 8,
   "metadata": {},
   "outputs": [
    {
     "data": {
      "text/plain": [
       "'그룹_하나 : 그룹_하나 : 그룹_하나 : [5], 그룹_둘 : [10]`n, 그룹_둘 : 그룹_하나 : [66], 그룹_둘 : [77]`n`n, 그룹_둘 : 그룹_하나 : 그룹_하나 : [54], 그룹_둘 : [32]`n, 그룹_둘 : 그룹_하나 : [11], 그룹_둘 : [15]`n`n`n'"
      ]
     },
     "execution_count": 8,
     "metadata": {},
     "output_type": "execute_result"
    }
   ],
   "source": [
    "# 분할\n",
    "def 병합정렬(입력리스트):\n",
    "    입력리스트의길이 = len(입력리스트)\n",
    "    if 입력리스트의길이 <= 1:\n",
    "        return 입력리스트\n",
    "    중간값 = 입력리스트의길이 // 2\n",
    "    그룹_하나 = 병합정렬(입력리스트[:중간값])\n",
    "    그룹_둘 = 병합정렬(입력리스트[중간값:])\n",
    "    return '그룹_하나 : {}, 그룹_둘 : {}'.format(그룹_하나, 그룹_둘)\n",
    "\n",
    "병합정렬([5,10,66,77,54,32,11,15])"
   ]
  },
  {
   "cell_type": "code",
   "execution_count": 12,
   "metadata": {},
   "outputs": [
    {
     "data": {
      "text/plain": [
       "[5, 10, 11, 15, 32, 54, 66, 77]"
      ]
     },
     "execution_count": 12,
     "metadata": {},
     "output_type": "execute_result"
    }
   ],
   "source": [
    "# 정렬\n",
    "def 병합정렬(입력리스트):\n",
    "    입력리스트의길이 = len(입력리스트)\n",
    "    결과값 = []\n",
    "    if 입력리스트의길이 <= 1:\n",
    "        return 입력리스트\n",
    "    중간값 = 입력리스트의길이 // 2\n",
    "    그룹_하나 = 병합정렬(입력리스트[:중간값])\n",
    "    그룹_둘 = 병합정렬(입력리스트[중간값:])\n",
    "    while 그룹_하나 and 그룹_둘:\n",
    "        if 그룹_하나[0] < 그룹_둘[0]:\n",
    "            결과값.append(그룹_하나.pop(0))\n",
    "        else:\n",
    "            결과값.append(그룹_둘.pop(0))\n",
    "    while 그룹_하나:\n",
    "        결과값.append(그룹_하나.pop(0))\n",
    "    while 그룹_둘:\n",
    "        결과값.append(그룹_둘.pop(0))\n",
    "    return 결과값\n",
    "\n",
    "병합정렬([5,10,66,77,54,32,11,15])\n"
   ]
  },
  {
   "attachments": {},
   "cell_type": "markdown",
   "metadata": {},
   "source": [
    "## 퀵 정렬(O(nlogn)) worst에는 (O(n**2))\n",
    "\n",
    "### 피봇 설정으로 시간 줄임"
   ]
  },
  {
   "cell_type": "code",
   "execution_count": 13,
   "metadata": {},
   "outputs": [
    {
     "data": {
      "text/plain": [
       "[5, 10, 11, 15, 32, 54, 66, 77]"
      ]
     },
     "execution_count": 13,
     "metadata": {},
     "output_type": "execute_result"
    }
   ],
   "source": [
    "[66,77,54,32,10,5,11,15]\n",
    "[54,32,10,5,11,15] + [66] + [77]\n",
    "[10,5,11,15] + [32] + [54] + [66] + [77]\n",
    "[5] + [10] + [11,15] + [32] + [54] + [66] + [77]\n",
    "[5] + [10] + [11] + [15] + [32] + [54] + [66] + [77]"
   ]
  },
  {
   "cell_type": "code",
   "execution_count": 15,
   "metadata": {},
   "outputs": [
    {
     "data": {
      "text/plain": [
       "[5, 10, 11, 15, 32, 54, 66, 77]"
      ]
     },
     "execution_count": 15,
     "metadata": {},
     "output_type": "execute_result"
    }
   ],
   "source": [
    "def 퀵정렬(입력리스트):\n",
    "    입력리스트의길이 = len(입력리스트)\n",
    "    if 입력리스트의길이 <= 1:\n",
    "        return 입력리스트\n",
    "    피벗값 = 입력리스트.pop(0)\n",
    "    그룹_하나 = []\n",
    "    그룹_둘 = []\n",
    "    for i in range(입력리스트의길이-1):\n",
    "        if 입력리스트[i] < 피벗값:\n",
    "            그룹_하나.append(입력리스트[i])\n",
    "        else:\n",
    "            그룹_둘.append(입력리스트[i])\n",
    "    return 퀵정렬(그룹_하나) + [피벗값] + 퀵정렬(그룹_둘)\n",
    "\n",
    "입력값 = [66,77,54,32,10,5,11,15]\n",
    "퀵정렬(입력값)"
   ]
  },
  {
   "attachments": {},
   "cell_type": "markdown",
   "metadata": {},
   "source": [
    "## collections : 컨테이너 데이터형\n",
    "- 이 모듈은 파이썬의 범용 내장 컨테이너 dict,list,set 및 tuple에 대한 대안을 제공하는 특수 컨테이너 데이터형을 구현합니다.\n",
    "\n",
    "- namedtuple : 이름 붙은 필드를 갖는 튜플 서브 클래스를 만들기 위한 팩토리 함수\n",
    "- deque : 양쪽 끝에서 빠르게 추가와 삭제를 할 수 있는 리스트류 컨테이너\n",
    "- ChainMap : 여러 매핑의 단일 뷰를 만드는 딕셔너리류 클래스\n",
    "- Counter : 해시 가능한 객체를 세는 데 사용하는 딕셔너리 서브 클래스\n",
    "- OrderedDict : 항목이 추가된 순서를 기억하는 딕셔너리 서브 클래스\n",
    "- defaultdict : 누락된 값을 제공하기 위해 팩토리 함수를 호출하는 딕셔너리 서브 클래스\n",
    "- UserDict : 더 쉬운 딕셔너리 서브 클래싱을 위해 딕셔너리 객체를 감싸는 래퍼\n",
    "- UserList : 더 쉬운 리스트 서브 클래싱을 위해 리스트 객체를 감싸는 래퍼\n",
    "- UserString : 더 쉬운 문자열 서브 클래싱을 위해 문자열 객체를 감싸는 래퍼"
   ]
  },
  {
   "attachments": {},
   "cell_type": "markdown",
   "metadata": {},
   "source": [
    "# 01 namedtuple\n",
    "- 튜플처럼 immutable\n",
    "- 이름을 통해 데이터로 접근 가능\n",
    "- 메모리 활용 최적화(성능상에 이점이 있음) -> 활용하려는 자료형에 비해 어느정도 성능상에 이점에 있다는 것은 시간 측정 필요"
   ]
  },
  {
   "cell_type": "code",
   "execution_count": 16,
   "metadata": {},
   "outputs": [
    {
     "data": {
      "text/plain": [
       "([10, 20, 100], 10, 20)"
      ]
     },
     "execution_count": 16,
     "metadata": {},
     "output_type": "execute_result"
    }
   ],
   "source": [
    "l = [10,20,30]\n",
    "t = (l,10,20)\n",
    "l[2] = 100\n",
    "t"
   ]
  },
  {
   "cell_type": "code",
   "execution_count": 18,
   "metadata": {},
   "outputs": [
    {
     "data": {
      "text/plain": [
       "33"
      ]
     },
     "execution_count": 18,
     "metadata": {},
     "output_type": "execute_result"
    }
   ],
   "source": [
    "# Basic example\n",
    "from collections import namedtuple\n",
    "\n",
    "Point = namedtuple('Point', ['x','y'])\n",
    "p = Point(11,y=22)\n",
    "p[0]+p[1]"
   ]
  },
  {
   "cell_type": "code",
   "execution_count": 20,
   "metadata": {},
   "outputs": [
    {
     "data": {
      "text/plain": [
       "(11, 22)"
      ]
     },
     "execution_count": 20,
     "metadata": {},
     "output_type": "execute_result"
    }
   ],
   "source": [
    "p.x, p.y"
   ]
  },
  {
   "cell_type": "code",
   "execution_count": 21,
   "metadata": {},
   "outputs": [
    {
     "data": {
      "text/plain": [
       "(11, 22)"
      ]
     },
     "execution_count": 21,
     "metadata": {},
     "output_type": "execute_result"
    }
   ],
   "source": [
    "i, j = p\n",
    "i, j"
   ]
  },
  {
   "cell_type": "code",
   "execution_count": 22,
   "metadata": {},
   "outputs": [
    {
     "data": {
      "text/plain": [
       "__main__.Point"
      ]
     },
     "execution_count": 22,
     "metadata": {},
     "output_type": "execute_result"
    }
   ],
   "source": [
    "Point"
   ]
  },
  {
   "cell_type": "code",
   "execution_count": 26,
   "metadata": {},
   "outputs": [
    {
     "data": {
      "text/plain": [
       "기술(기술이름='파이썬', 자격증='정보처리기사', 연차='3')"
      ]
     },
     "execution_count": 26,
     "metadata": {},
     "output_type": "execute_result"
    }
   ],
   "source": [
    "from collections import namedtuple\n",
    "\n",
    "기술명세 = namedtuple('기술','기술이름, 자격증, 연차')\n",
    "이호준 = 기술명세('파이썬','정보처리기사','3')\n",
    "이호준"
   ]
  },
  {
   "attachments": {},
   "cell_type": "markdown",
   "metadata": {},
   "source": [
    "## 02 deque\n",
    "- 양쪽 끝에서 빠르게 추가와 삭제를 할 수 있는 리스트류 컨테이너\n",
    "- 양방향 큐\n",
    "- 데이터의 회전도 가능\n",
    "- maxlen을 설정하여 최대 항목 수를 설정"
   ]
  },
  {
   "cell_type": "code",
   "execution_count": 27,
   "metadata": {},
   "outputs": [
    {
     "data": {
      "text/plain": [
       "deque([10, 20, 30, 40, 50])"
      ]
     },
     "execution_count": 27,
     "metadata": {},
     "output_type": "execute_result"
    }
   ],
   "source": [
    "from collections import deque\n",
    "\n",
    "a = [10,20,30,40,50]\n",
    "d = deque(a)\n",
    "d"
   ]
  },
  {
   "cell_type": "code",
   "execution_count": 28,
   "metadata": {},
   "outputs": [
    {
     "data": {
      "text/plain": [
       "['__add__',\n",
       " '__class__',\n",
       " '__class_getitem__',\n",
       " '__contains__',\n",
       " '__copy__',\n",
       " '__delattr__',\n",
       " '__delitem__',\n",
       " '__dir__',\n",
       " '__doc__',\n",
       " '__eq__',\n",
       " '__format__',\n",
       " '__ge__',\n",
       " '__getattribute__',\n",
       " '__getitem__',\n",
       " '__getstate__',\n",
       " '__gt__',\n",
       " '__hash__',\n",
       " '__iadd__',\n",
       " '__imul__',\n",
       " '__init__',\n",
       " '__init_subclass__',\n",
       " '__iter__',\n",
       " '__le__',\n",
       " '__len__',\n",
       " '__lt__',\n",
       " '__mul__',\n",
       " '__ne__',\n",
       " '__new__',\n",
       " '__reduce__',\n",
       " '__reduce_ex__',\n",
       " '__repr__',\n",
       " '__reversed__',\n",
       " '__rmul__',\n",
       " '__setattr__',\n",
       " '__setitem__',\n",
       " '__sizeof__',\n",
       " '__str__',\n",
       " '__subclasshook__',\n",
       " 'append',\n",
       " 'appendleft',\n",
       " 'clear',\n",
       " 'copy',\n",
       " 'count',\n",
       " 'extend',\n",
       " 'extendleft',\n",
       " 'index',\n",
       " 'insert',\n",
       " 'maxlen',\n",
       " 'pop',\n",
       " 'popleft',\n",
       " 'remove',\n",
       " 'reverse',\n",
       " 'rotate']"
      ]
     },
     "execution_count": 28,
     "metadata": {},
     "output_type": "execute_result"
    }
   ],
   "source": [
    "dir(d)"
   ]
  },
  {
   "cell_type": "code",
   "execution_count": 29,
   "metadata": {},
   "outputs": [
    {
     "data": {
      "text/plain": [
       "deque([10, 20, 30, 40, 50, 100])"
      ]
     },
     "execution_count": 29,
     "metadata": {},
     "output_type": "execute_result"
    }
   ],
   "source": [
    "d.append(100)\n",
    "d"
   ]
  },
  {
   "cell_type": "code",
   "execution_count": 30,
   "metadata": {},
   "outputs": [
    {
     "data": {
      "text/plain": [
       "deque([1000, 10, 20, 30, 40, 50, 100])"
      ]
     },
     "execution_count": 30,
     "metadata": {},
     "output_type": "execute_result"
    }
   ],
   "source": [
    "d.appendleft(1000)\n",
    "d"
   ]
  },
  {
   "attachments": {},
   "cell_type": "markdown",
   "metadata": {},
   "source": [
    "## 03. ChainMap\n",
    "- 여러개의 컨테이너 자료형을 연결할 수 있음"
   ]
  },
  {
   "cell_type": "code",
   "execution_count": 31,
   "metadata": {},
   "outputs": [
    {
     "data": {
      "text/plain": [
       "ChainMap({'one': 1, 'two': 2, 'three': 3}, {'four': 4})"
      ]
     },
     "execution_count": 31,
     "metadata": {},
     "output_type": "execute_result"
    }
   ],
   "source": [
    "from collections import ChainMap\n",
    "\n",
    "oneDict = {'one':1, 'two':2, 'three':3}\n",
    "twoDict = {'four':4}\n",
    "\n",
    "chain = ChainMap(oneDict, twoDict)\n",
    "chain"
   ]
  },
  {
   "cell_type": "code",
   "execution_count": 32,
   "metadata": {},
   "outputs": [
    {
     "data": {
      "text/plain": [
       "True"
      ]
     },
     "execution_count": 32,
     "metadata": {},
     "output_type": "execute_result"
    }
   ],
   "source": [
    "'one' in chain"
   ]
  },
  {
   "cell_type": "code",
   "execution_count": 34,
   "metadata": {},
   "outputs": [
    {
     "data": {
      "text/plain": [
       "ItemsView(ChainMap({'one': 1, 'two': 2, 'three': 3}, {'four': 4}))"
      ]
     },
     "execution_count": 34,
     "metadata": {},
     "output_type": "execute_result"
    }
   ],
   "source": [
    "chain.values()\n",
    "chain.keys()\n",
    "chain.items()"
   ]
  },
  {
   "cell_type": "code",
   "execution_count": 35,
   "metadata": {},
   "outputs": [
    {
     "data": {
      "text/plain": [
       "[{'one': 1, 'two': 2, 'three': 3}, {'four': 4}]"
      ]
     },
     "execution_count": 35,
     "metadata": {},
     "output_type": "execute_result"
    }
   ],
   "source": [
    "chain.maps"
   ]
  },
  {
   "cell_type": "code",
   "execution_count": 36,
   "metadata": {},
   "outputs": [
    {
     "data": {
      "text/plain": [
       "{'one': 1, 'two': 2, 'three': 3}"
      ]
     },
     "execution_count": 36,
     "metadata": {},
     "output_type": "execute_result"
    }
   ],
   "source": [
    "chain.maps[0]"
   ]
  },
  {
   "attachments": {},
   "cell_type": "markdown",
   "metadata": {},
   "source": []
  }
 ],
 "metadata": {
  "kernelspec": {
   "display_name": "Python 3",
   "language": "python",
   "name": "python3"
  },
  "language_info": {
   "codemirror_mode": {
    "name": "ipython",
    "version": 3
   },
   "file_extension": ".py",
   "mimetype": "text/x-python",
   "name": "python",
   "nbconvert_exporter": "python",
   "pygments_lexer": "ipython3",
   "version": "3.11.0"
  },
  "orig_nbformat": 4,
  "vscode": {
   "interpreter": {
    "hash": "aee8b7b246df8f9039afb4144a1f6fd8d2ca17a180786b69acc140d282b71a49"
   }
  }
 },
 "nbformat": 4,
 "nbformat_minor": 2
}
